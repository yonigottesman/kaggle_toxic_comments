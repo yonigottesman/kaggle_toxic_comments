{
 "cells": [
  {
   "cell_type": "code",
   "execution_count": 456,
   "metadata": {},
   "outputs": [],
   "source": [
    "import pandas as pd\n",
    "import torchtext\n",
    "import random\n",
    "from torchtext.data import TabularDataset\n",
    "import numpy as np\n",
    "import os\n",
    "from torchtext import data\n",
    "import torch.nn as nn\n",
    "import torch\n",
    "import torch.optim as optim\n",
    "import time\n",
    "from sklearn.metrics import roc_auc_score,accuracy_score\n",
    "import spacy"
   ]
  },
  {
   "cell_type": "code",
   "execution_count": 457,
   "metadata": {},
   "outputs": [
    {
     "data": {
      "text/plain": [
       "device(type='cpu')"
      ]
     },
     "execution_count": 457,
     "metadata": {},
     "output_type": "execute_result"
    }
   ],
   "source": [
    "device = torch.device(\"cuda\" if torch.cuda.is_available() else \"cpu\")\n",
    "device"
   ]
  },
  {
   "cell_type": "code",
   "execution_count": 458,
   "metadata": {},
   "outputs": [],
   "source": [
    "data_dir = './data/'\n",
    "df = pd.read_csv('data/train.csv')"
   ]
  },
  {
   "cell_type": "code",
   "execution_count": 459,
   "metadata": {},
   "outputs": [],
   "source": [
    "# hyperparams\n",
    "TEXT_LENGTH = 100\n",
    "EMBEDDING_SIZE = 20\n",
    "BATCH_SIZE = 64\n",
    "VOCAB_SIZE=20000"
   ]
  },
  {
   "cell_type": "code",
   "execution_count": 460,
   "metadata": {},
   "outputs": [],
   "source": [
    "filters='!\"#$%&()*+,-./:;<=>?@[\\\\]^_`{|}~\\t\\n'\n",
    "nlp = spacy.load(\"en\")\n",
    "def tokenizer(text):\n",
    "    filtered = ''.join([c if c not in filters else '' for c in text])\n",
    "    return [token.text for token in nlp.tokenizer(filtered) if not token.is_space]"
   ]
  },
  {
   "cell_type": "code",
   "execution_count": 465,
   "metadata": {},
   "outputs": [
    {
     "ename": "TypeError",
     "evalue": "'encoding' is an invalid keyword argument for this function",
     "output_type": "error",
     "traceback": [
      "\u001b[0;31m---------------------------------------------------------------------------\u001b[0m",
      "\u001b[0;31mTypeError\u001b[0m                                 Traceback (most recent call last)",
      "\u001b[0;32m<ipython-input-465-908f0a08ccd0>\u001b[0m in \u001b[0;36m<module>\u001b[0;34m\u001b[0m\n\u001b[1;32m      1\u001b[0m \u001b[0;32mimport\u001b[0m \u001b[0mcsv\u001b[0m\u001b[0;34m\u001b[0m\u001b[0m\n\u001b[0;32m----> 2\u001b[0;31m \u001b[0mcsv\u001b[0m\u001b[0;34m.\u001b[0m\u001b[0mreader\u001b[0m\u001b[0;34m(\u001b[0m\u001b[0;34m'data/train.csv'\u001b[0m\u001b[0;34m,\u001b[0m \u001b[0mdelimiter\u001b[0m\u001b[0;34m=\u001b[0m\u001b[0;34m' '\u001b[0m\u001b[0;34m,\u001b[0m \u001b[0mquotechar\u001b[0m\u001b[0;34m=\u001b[0m\u001b[0;34m'|'\u001b[0m\u001b[0;34m,\u001b[0m\u001b[0mencoding\u001b[0m \u001b[0;34m=\u001b[0m \u001b[0;34m\"utf-8\"\u001b[0m\u001b[0;34m)\u001b[0m\u001b[0;34m\u001b[0m\u001b[0m\n\u001b[0m",
      "\u001b[0;31mTypeError\u001b[0m: 'encoding' is an invalid keyword argument for this function"
     ]
    }
   ],
   "source": [
    "import csv\n",
    "csv.reader('data/train.csv', delimiter=' ', quotechar='|',encoding = \"utf-8\")"
   ]
  },
  {
   "cell_type": "code",
   "execution_count": 461,
   "metadata": {},
   "outputs": [],
   "source": [
    "random.seed(1234)\n",
    "TEXT = data.Field(lower=True, batch_first=True,fix_length=TEXT_LENGTH, preprocessing=None, tokenize='spacy')\n",
    "LABEL = data.Field(sequential=False,is_target=True, use_vocab=False, pad_token=None, unk_token=None)\n",
    "\n",
    "datafields = [('id', None),\n",
    "              ('comment_text', TEXT), \n",
    "              (\"toxic\", LABEL), \n",
    "              (\"severe_toxic\", LABEL),\n",
    "              ('obscene', LABEL), \n",
    "              ('threat', LABEL),\n",
    "              ('insult', LABEL),\n",
    "              ('identity_hate', LABEL)]\n",
    "\n",
    "\n",
    "alldata = TabularDataset(\n",
    "    path='data/train.csv',\n",
    "    format='csv',\n",
    "    skip_header=True,\n",
    "    fields=datafields)"
   ]
  },
  {
   "cell_type": "code",
   "execution_count": 443,
   "metadata": {},
   "outputs": [],
   "source": [
    "random.seed(17)\n",
    "train,dev = alldata.split(split_ratio=0.9, random_state=random.getstate())"
   ]
  },
  {
   "cell_type": "code",
   "execution_count": 444,
   "metadata": {},
   "outputs": [],
   "source": [
    "# TEXT.build_vocab(train, vectors='glove.6B.300d', max_size=20000, min_freq=5)\n",
    "TEXT.build_vocab(train, max_size=VOCAB_SIZE, min_freq=5)\n",
    "LABEL.build_vocab(train)"
   ]
  },
  {
   "cell_type": "code",
   "execution_count": 445,
   "metadata": {},
   "outputs": [],
   "source": [
    "# generate batch iterators\n",
    "random.seed(1234)\n",
    "train_iterator, valid_iterator = data.BucketIterator.splits((train, dev),\n",
    "                                                            batch_size=BATCH_SIZE,\n",
    "                                                            device=device,\n",
    "                                                            shuffle=True,\n",
    "                                                            sort_key=lambda x: len(x.comment_text))"
   ]
  },
  {
   "cell_type": "code",
   "execution_count": 446,
   "metadata": {},
   "outputs": [],
   "source": [
    "class SqueezeModule(nn.Module):\n",
    "    def forward(self, x):\n",
    "        return x.squeeze(1)\n",
    "    \n",
    "class NNet(nn.Module):\n",
    "    def __init__(self, vocab_size, embedding_dim, output_dim, pad_idx, embeddings, text_length):\n",
    "        super().__init__()\n",
    "        self.layers = nn.Sequential(\n",
    "            #nn.Embedding.from_pretrained(embeddings, freeze=False, padding_idx=pad_idx),\n",
    "            nn.Embedding(vocab_size,embedding_dim,padding_idx=pad_idx),\n",
    "            nn.MaxPool2d((text_length,1)),\n",
    "            SqueezeModule(),\n",
    "            nn.Linear(embedding_dim, output_dim),\n",
    "        )\n",
    "        \n",
    "        init_f = lambda m: torch.nn.init.xavier_uniform_(m.weight) if type(m) == nn.Linear else None\n",
    "        init_bias = lambda m: m.bias.data.zero_() if type(m) == nn.Linear else None\n",
    "        self.layers.apply(init_f)\n",
    "            \n",
    "    def forward(self, text):\n",
    "        return self.layers(text)"
   ]
  },
  {
   "cell_type": "code",
   "execution_count": 447,
   "metadata": {},
   "outputs": [],
   "source": [
    "def fit_epoch(iterator, model, optimizer, criterion):\n",
    "    train_loss = 0\n",
    "    train_acc = 0\n",
    "    model.train()\n",
    "    all_y = []\n",
    "    all_y_hat = []\n",
    "    for i, batch in enumerate(iterator):\n",
    "        optimizer.zero_grad()\n",
    "        y = torch.stack([batch.toxic,\n",
    "                         batch.severe_toxic,\n",
    "                         batch.obscene,\n",
    "                         batch.threat,\n",
    "                         batch.insult,\n",
    "                         batch.identity_hate],dim=1).float().to(device)\n",
    "        y_hat = model(batch.comment_text.to(device))\n",
    "        loss = criterion(y_hat, y)\n",
    "        train_loss += loss.item()\n",
    "        loss.backward()\n",
    "        optimizer.step()\n",
    "        all_y.append(y)\n",
    "        all_y_hat.append(y_hat)\n",
    "    y = torch.cat(all_y,dim=0)\n",
    "    y_hat = torch.cat(all_y_hat,dim=0)\n",
    "    roc = roc_auc_score(y,y_hat.sigmoid().detach())\n",
    "    return train_loss / len(iterator.dataset), roc\n",
    "\n",
    "def test_epoch(iterator, model, criterion):\n",
    "    train_loss = 0\n",
    "    train_acc = 0\n",
    "    model.eval()\n",
    "    all_y = []\n",
    "    all_y_hat = []\n",
    "    for i, batch in enumerate(iterator):\n",
    "        y = torch.stack([batch.toxic,\n",
    "                         batch.severe_toxic,\n",
    "                         batch.obscene,\n",
    "                         batch.threat,\n",
    "                         batch.insult,\n",
    "                         batch.identity_hate],dim=1).float().to(device)\n",
    "        with torch.no_grad():\n",
    "            y_hat = model(batch.comment_text.to(device))\n",
    "        loss = criterion(y_hat, y)\n",
    "        train_loss += loss.item()\n",
    "        all_y.append(y)\n",
    "        all_y_hat.append(y_hat)\n",
    "    y = torch.cat(all_y,dim=0)\n",
    "    y_hat = torch.cat(all_y_hat,dim=0)\n",
    "    roc = roc_auc_score(y,y_hat.sigmoid().detach())\n",
    "    return train_loss / len(iterator.dataset), roc"
   ]
  },
  {
   "cell_type": "code",
   "execution_count": 448,
   "metadata": {},
   "outputs": [
    {
     "name": "stdout",
     "output_type": "stream",
     "text": [
      "The model has 400,166 trainable parameters\n"
     ]
    }
   ],
   "source": [
    "OUTPUT_DIM = 6\n",
    "PAD_IDX = TEXT.vocab.stoi[TEXT.pad_token]\n",
    "model = NNet(len(TEXT.vocab), EMBEDDING_SIZE, OUTPUT_DIM, PAD_IDX, TEXT.vocab.vectors,TEXT_LENGTH).to(device)\n",
    "\n",
    "def count_parameters(model):\n",
    "    return sum(p.numel() for p in model.parameters() if p.requires_grad)\n",
    "\n",
    "print(f'The model has {count_parameters(model):,} trainable parameters')"
   ]
  },
  {
   "cell_type": "code",
   "execution_count": 449,
   "metadata": {},
   "outputs": [],
   "source": [
    "def train_n_epochs(n, lr, wd):\n",
    "\n",
    "    criterion = nn.BCEWithLogitsLoss().to(device)\n",
    "    optimizer = optim.Adam(model.parameters(), lr=lr, weight_decay=wd)\n",
    "    for epoch in range(n):\n",
    "        start_time = time.time()\n",
    "        train_loss, train_roc = fit_epoch(train_iterator, model, optimizer, criterion)\n",
    "        valid_loss, valid_roc = test_epoch(valid_iterator, model, criterion)\n",
    "\n",
    "        secs = int(time.time() - start_time)\n",
    "        mins = secs / 60\n",
    "        secs = secs % 60\n",
    "\n",
    "        print('Epoch: %d' % (epoch + 1), \" | time in %d minutes, %d seconds\" % (mins, secs))\n",
    "        print(f'\\tLoss: {train_loss:.4f}(train)\\t|\\troc: {train_roc :.6f} (train)')\n",
    "        print(f'\\tLoss: {valid_loss:.4f}(valid)\\t|\\troc: {valid_roc:.6f} (valid)')    "
   ]
  },
  {
   "cell_type": "code",
   "execution_count": 450,
   "metadata": {
    "scrolled": false
   },
   "outputs": [
    {
     "name": "stdout",
     "output_type": "stream",
     "text": [
      "Epoch: 1  | time in 0 minutes, 28 seconds\n",
      "\tLoss: 0.0013(train)\t|\troc: 0.889760 (train)\n",
      "\tLoss: 0.0010(valid)\t|\troc: 0.954847 (valid)\n",
      "Epoch: 2  | time in 0 minutes, 29 seconds\n",
      "\tLoss: 0.0009(train)\t|\troc: 0.963827 (train)\n",
      "\tLoss: 0.0010(valid)\t|\troc: 0.961743 (valid)\n",
      "Epoch: 3  | time in 0 minutes, 30 seconds\n",
      "\tLoss: 0.0008(train)\t|\troc: 0.972883 (train)\n",
      "\tLoss: 0.0010(valid)\t|\troc: 0.962056 (valid)\n",
      "Epoch: 4  | time in 0 minutes, 30 seconds\n",
      "\tLoss: 0.0007(train)\t|\troc: 0.977441 (train)\n",
      "\tLoss: 0.0009(valid)\t|\troc: 0.962616 (valid)\n",
      "Epoch: 5  | time in 0 minutes, 30 seconds\n",
      "\tLoss: 0.0007(train)\t|\troc: 0.980279 (train)\n",
      "\tLoss: 0.0009(valid)\t|\troc: 0.960046 (valid)\n"
     ]
    }
   ],
   "source": [
    "train_n_epochs(5,0.01,0)"
   ]
  },
  {
   "cell_type": "code",
   "execution_count": 451,
   "metadata": {},
   "outputs": [
    {
     "name": "stdout",
     "output_type": "stream",
     "text": [
      "Epoch: 1  | time in 0 minutes, 28 seconds\n",
      "\tLoss: 0.0006(train)\t|\troc: 0.986626 (train)\n",
      "\tLoss: 0.0009(valid)\t|\troc: 0.961181 (valid)\n",
      "Epoch: 2  | time in 0 minutes, 33 seconds\n",
      "\tLoss: 0.0006(train)\t|\troc: 0.987181 (train)\n",
      "\tLoss: 0.0009(valid)\t|\troc: 0.961261 (valid)\n",
      "Epoch: 3  | time in 0 minutes, 32 seconds\n",
      "\tLoss: 0.0006(train)\t|\troc: 0.987560 (train)\n",
      "\tLoss: 0.0009(valid)\t|\troc: 0.960731 (valid)\n",
      "Epoch: 4  | time in 0 minutes, 35 seconds\n",
      "\tLoss: 0.0006(train)\t|\troc: 0.987787 (train)\n",
      "\tLoss: 0.0009(valid)\t|\troc: 0.960474 (valid)\n",
      "Epoch: 5  | time in 0 minutes, 32 seconds\n",
      "\tLoss: 0.0006(train)\t|\troc: 0.987973 (train)\n",
      "\tLoss: 0.0010(valid)\t|\troc: 0.960147 (valid)\n"
     ]
    }
   ],
   "source": [
    "train_n_epochs(5,0.001,0)"
   ]
  },
  {
   "cell_type": "code",
   "execution_count": 452,
   "metadata": {},
   "outputs": [],
   "source": [
    "dataFields = [(\"id\", None), (\"comment_text\", TEXT)]\n",
    "testDataset= data.TabularDataset(path='./data/test.csv', \n",
    "                                            format='csv',\n",
    "                                            fields=dataFields, \n",
    "                                            skip_header=True)"
   ]
  },
  {
   "cell_type": "code",
   "execution_count": 453,
   "metadata": {},
   "outputs": [],
   "source": [
    "test_iter = data.Iterator(testDataset,\n",
    "                          batch_size=BATCH_SIZE,\n",
    "                          device=device,\n",
    "                          sort=False,\n",
    "                          sort_within_batch=False,\n",
    "                          repeat=False,\n",
    "                          shuffle=False)"
   ]
  },
  {
   "cell_type": "code",
   "execution_count": 454,
   "metadata": {},
   "outputs": [],
   "source": [
    "model.eval()\n",
    "all_predictions = []\n",
    "for batch in test_iter:\n",
    "    with torch.no_grad():\n",
    "        y_hat = model(batch.comment_text.to(device))\n",
    "    pred = torch.sigmoid(y_hat)\n",
    "    all_predictions.append(pred)\n",
    "predictions = torch.cat(all_predictions)"
   ]
  },
  {
   "cell_type": "code",
   "execution_count": 455,
   "metadata": {},
   "outputs": [],
   "source": [
    "list_classes = [\"toxic\", \"severe_toxic\", \"obscene\", \"threat\", \"insult\", \"identity_hate\"]\n",
    "sample_df = pd.read_csv('data/sample_submission.csv')\n",
    "sample_df[list_classes] = predictions\n",
    "sample_df.to_csv('submission.csv', index=False)"
   ]
  },
  {
   "cell_type": "code",
   "execution_count": null,
   "metadata": {},
   "outputs": [],
   "source": []
  }
 ],
 "metadata": {
  "kernelspec": {
   "display_name": "kaggle",
   "language": "python",
   "name": "kaggle"
  },
  "language_info": {
   "codemirror_mode": {
    "name": "ipython",
    "version": 3
   },
   "file_extension": ".py",
   "mimetype": "text/x-python",
   "name": "python",
   "nbconvert_exporter": "python",
   "pygments_lexer": "ipython3",
   "version": "3.6.5"
  }
 },
 "nbformat": 4,
 "nbformat_minor": 2
}
