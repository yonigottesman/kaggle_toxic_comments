{
  "nbformat": 4,
  "nbformat_minor": 0,
  "metadata": {
    "colab": {
      "name": "toxic_lstm.ipynb",
      "provenance": [],
      "collapsed_sections": []
    },
    "kernelspec": {
      "name": "python3",
      "display_name": "Python 3"
    },
    "accelerator": "GPU"
  },
  "cells": [
    {
      "cell_type": "markdown",
      "metadata": {
        "id": "NOOLnuYl79f4",
        "colab_type": "text"
      },
      "source": [
        "- preprocessing\n",
        "- oov embeddings init\n",
        "- model\n",
        "- extra features\n",
        "- translate and back\n",
        "- ideas from third place :https://www.kaggle.com/c/jigsaw-toxic-comment-classification-challenge/discussion/52644"
      ]
    },
    {
      "cell_type": "code",
      "metadata": {
        "id": "6HaEhXWaPPua",
        "colab_type": "code",
        "colab": {}
      },
      "source": [
        "import pandas as pd\n",
        "import torchtext\n",
        "import random\n",
        "from torchtext.data import TabularDataset\n",
        "import numpy as np\n",
        "import os\n",
        "from torchtext import data\n",
        "import torch.nn as nn\n",
        "import torch\n",
        "import torch.optim as optim\n",
        "import time\n",
        "from sklearn.metrics import roc_auc_score,accuracy_score\n",
        "import spacy\n",
        "import torch.nn.functional as F\n",
        "import matplotlib.pyplot as plt\n",
        "import seaborn as sns"
      ],
      "execution_count": 0,
      "outputs": []
    },
    {
      "cell_type": "code",
      "metadata": {
        "id": "paFaiqTgv22H",
        "colab_type": "code",
        "colab": {
          "base_uri": "https://localhost:8080/",
          "height": 124
        },
        "outputId": "01805383-cd44-430e-a4bc-adf939aa496e"
      },
      "source": [
        "from google.colab import drive\n",
        "drive.mount('/content/drive')"
      ],
      "execution_count": 2,
      "outputs": [
        {
          "output_type": "stream",
          "text": [
            "Go to this URL in a browser: https://accounts.google.com/o/oauth2/auth?client_id=947318989803-6bn6qk8qdgf4n4g3pfee6491hc0brc4i.apps.googleusercontent.com&redirect_uri=urn%3Aietf%3Awg%3Aoauth%3A2.0%3Aoob&scope=email%20https%3A%2F%2Fwww.googleapis.com%2Fauth%2Fdocs.test%20https%3A%2F%2Fwww.googleapis.com%2Fauth%2Fdrive%20https%3A%2F%2Fwww.googleapis.com%2Fauth%2Fdrive.photos.readonly%20https%3A%2F%2Fwww.googleapis.com%2Fauth%2Fpeopleapi.readonly&response_type=code\n",
            "\n",
            "Enter your authorization code:\n",
            "··········\n",
            "Mounted at /content/drive\n"
          ],
          "name": "stdout"
        }
      ]
    },
    {
      "cell_type": "code",
      "metadata": {
        "id": "vmvgVfztO_oB",
        "colab_type": "code",
        "outputId": "8fca76cc-2a7c-46d0-9d54-fc4395ccd81e",
        "colab": {
          "base_uri": "https://localhost:8080/",
          "height": 469
        }
      },
      "source": [
        "os.environ['KAGGLE_USERNAME'] = \"yonigottesman\" # username from the json file \n",
        "os.environ['KAGGLE_KEY'] = \"4b38ea3d9a7d2a9ee47010dc9650dd7d\" # key from the json file \n",
        "\n",
        "!kaggle competitions download -c jigsaw-toxic-comment-classification-challenge\n",
        "!unzip '*.csv.zip'"
      ],
      "execution_count": 3,
      "outputs": [
        {
          "output_type": "stream",
          "text": [
            "Warning: Looks like you're using an outdated API Version, please consider updating (server 1.5.6 / client 1.5.4)\n",
            "Downloading sample_submission.csv.zip to /content\n",
            "  0% 0.00/1.39M [00:00<?, ?B/s]\n",
            "100% 1.39M/1.39M [00:00<00:00, 46.1MB/s]\n",
            "Downloading test.csv.zip to /content\n",
            " 94% 22.0M/23.4M [00:00<00:00, 76.1MB/s]\n",
            "100% 23.4M/23.4M [00:00<00:00, 115MB/s] \n",
            "Downloading train.csv.zip to /content\n",
            " 84% 22.0M/26.3M [00:01<00:00, 5.50MB/s]\n",
            "100% 26.3M/26.3M [00:01<00:00, 18.2MB/s]\n",
            "Downloading test_labels.csv.zip to /content\n",
            "  0% 0.00/1.46M [00:00<?, ?B/s]\n",
            "100% 1.46M/1.46M [00:00<00:00, 47.9MB/s]\n",
            "Archive:  test.csv.zip\n",
            "  inflating: test.csv                \n",
            "\n",
            "Archive:  test_labels.csv.zip\n",
            "  inflating: test_labels.csv         \n",
            "\n",
            "Archive:  train.csv.zip\n",
            "  inflating: train.csv               \n",
            "\n",
            "Archive:  sample_submission.csv.zip\n",
            "  inflating: sample_submission.csv   \n",
            "\n",
            "4 archives were successfully processed.\n"
          ],
          "name": "stdout"
        }
      ]
    },
    {
      "cell_type": "markdown",
      "metadata": {
        "id": "7hvzl5F9qwRQ",
        "colab_type": "text"
      },
      "source": [
        "# Preprocessing"
      ]
    },
    {
      "cell_type": "code",
      "metadata": {
        "id": "lbFlHwpplScq",
        "colab_type": "code",
        "colab": {}
      },
      "source": [
        "# ideas taken from here https://www.kaggle.com/theoviel/improve-your-score-with-text-preprocessing-v2\n",
        "contraction_mapping = {'fggt':'faggot', 'cocksucker':'cock sucker','bastered':'bastard',\"ain't\": \"is not\", \"aren't\": \"are not\",\"can't\": \"cannot\", \"'cause\": \"because\", \"could've\": \"could have\", \"couldn't\": \"could not\", \"didn't\": \"did not\",  \"doesn't\": \"does not\", \"don't\": \"do not\", \"hadn't\": \"had not\", \"hasn't\": \"has not\", \"haven't\": \"have not\", \"he'd\": \"he would\",\"he'll\": \"he will\", \"he's\": \"he is\", \"how'd\": \"how did\", \"how'd'y\": \"how do you\", \"how'll\": \"how will\", \"how's\": \"how is\",  \"I'd\": \"I would\", \"I'd've\": \"I would have\", \"I'll\": \"I will\", \"I'll've\": \"I will have\",\"I'm\": \"I am\", \"I've\": \"I have\", \"i'd\": \"i would\", \"i'd've\": \"i would have\", \"i'll\": \"i will\",  \"i'll've\": \"i will have\",\"i'm\": \"i am\", \"i've\": \"i have\", \"isn't\": \"is not\", \"it'd\": \"it would\", \"it'd've\": \"it would have\", \"it'll\": \"it will\", \"it'll've\": \"it will have\",\"it's\": \"it is\", \"let's\": \"let us\", \"ma'am\": \"madam\", \"mayn't\": \"may not\", \"might've\": \"might have\",\"mightn't\": \"might not\",\"mightn't've\": \"might not have\", \"must've\": \"must have\", \"mustn't\": \"must not\", \"mustn't've\": \"must not have\", \"needn't\": \"need not\", \"needn't've\": \"need not have\",\"o'clock\": \"of the clock\", \"oughtn't\": \"ought not\", \"oughtn't've\": \"ought not have\", \"shan't\": \"shall not\", \"sha'n't\": \"shall not\", \"shan't've\": \"shall not have\", \"she'd\": \"she would\", \"she'd've\": \"she would have\", \"she'll\": \"she will\", \"she'll've\": \"she will have\", \"she's\": \"she is\", \"should've\": \"should have\", \"shouldn't\": \"should not\", \"shouldn't've\": \"should not have\", \"so've\": \"so have\",\"so's\": \"so as\", \"this's\": \"this is\",\"that'd\": \"that would\", \"that'd've\": \"that would have\", \"that's\": \"that is\", \"there'd\": \"there would\", \"there'd've\": \"there would have\", \"there's\": \"there is\", \"here's\": \"here is\",\"they'd\": \"they would\", \"they'd've\": \"they would have\", \"they'll\": \"they will\", \"they'll've\": \"they will have\", \"they're\": \"they are\", \"they've\": \"they have\", \"to've\": \"to have\", \"wasn't\": \"was not\", \"we'd\": \"we would\", \"we'd've\": \"we would have\", \"we'll\": \"we will\", \"we'll've\": \"we will have\", \"we're\": \"we are\", \"we've\": \"we have\", \"weren't\": \"were not\", \"what'll\": \"what will\", \"what'll've\": \"what will have\", \"what're\": \"what are\",  \"what's\": \"what is\", \"what've\": \"what have\", \"when's\": \"when is\", \"when've\": \"when have\", \"where'd\": \"where did\", \"where's\": \"where is\", \"where've\": \"where have\", \"who'll\": \"who will\", \"who'll've\": \"who will have\", \"who's\": \"who is\", \"who've\": \"who have\", \"why's\": \"why is\", \"why've\": \"why have\", \"will've\": \"will have\", \"won't\": \"will not\", \"won't've\": \"will not have\", \"would've\": \"would have\", \"wouldn't\": \"would not\", \"wouldn't've\": \"would not have\", \"y'all\": \"you all\", \"y'all'd\": \"you all would\",\"y'all'd've\": \"you all would have\",\"y'all're\": \"you all are\",\"y'all've\": \"you all have\",\"you'd\": \"you would\", \"you'd've\": \"you would have\", \"you'll\": \"you will\", \"you'll've\": \"you will have\", \"you're\": \"you are\", \"you've\": \"you have\" }\n",
        "def clean_contractions(text, mapping):\n",
        "    specials = [\"’\", \"‘\", \"´\", \"`\"]\n",
        "    for s in specials:\n",
        "        text = text.replace(s, \"'\")\n",
        "    text = ' '.join([mapping[t] if t in mapping else t for t in text.split(\" \")])\n",
        "    return text\n",
        "\n",
        "punct = \"/-'?!.,#$%\\'()*+-/:;<=>@[\\\\]^_`{|}~\" + '\"\"“”’' + '∞θ÷α•à−β∅³π‘₹´°£€\\×™√²—–&'\n",
        "punct_mapping = {\"‘\": \"'\", \"₹\": \"e\", \"´\": \"'\", \"°\": \"\", \"€\": \"e\", \"™\": \"tm\", \"√\": \" sqrt \", \"×\": \"x\", \"²\": \"2\", \"—\": \"-\", \"–\": \"-\", \"’\": \"'\", \"_\": \"-\", \"`\": \"'\", '“': '\"', '”': '\"', '“': '\"', \"£\": \"e\", '∞': 'infinity', 'θ': 'theta', '÷': '/', 'α': 'alpha', '•': '.', 'à': 'a', '−': '-', 'β': 'beta', '∅': '', '³': '3', 'π': 'pi', }\n",
        "\n",
        "def clean_special_chars(text, punct, mapping):\n",
        "    for p in mapping:\n",
        "        text = text.replace(p, mapping[p])\n",
        "    \n",
        "    for p in punct:\n",
        "        text = text.replace(p, f' {p} ')\n",
        "    \n",
        "    specials = {'\\u200b': ' ', '…': ' ... ', '\\ufeff': '', 'करना': '', 'है': '','→':' ','\\t':' ', '\\n':' '} \n",
        "    for s in specials:\n",
        "        text = text.replace(s, specials[s])\n",
        "    \n",
        "    return text\n",
        "\n",
        "nlp = spacy.load(\"en\")\n",
        "def tokenizer_with_preprocess(text):\n",
        "  text = clean_contractions(text, contraction_mapping)\n",
        "  text = clean_special_chars(text, punct,punct_mapping)\n",
        "  return [token.text for token in nlp.tokenizer(text) if not token.is_space]"
      ],
      "execution_count": 0,
      "outputs": []
    },
    {
      "cell_type": "code",
      "metadata": {
        "id": "tZ-4Fx6gqlFv",
        "colab_type": "code",
        "colab": {}
      },
      "source": [
        "df_train = pd.read_csv('/content/train.csv')\n",
        "df_train['comment_text'] = df_train['comment_text'].apply(lambda t: ' '.join(tokenizer_with_preprocess(t)))\n",
        "\n",
        "df_test = pd.read_csv('/content/test.csv')\n",
        "df_test['comment_text'] = df_test['comment_text'].apply(lambda t: ' '.join(tokenizer_with_preprocess(t)))"
      ],
      "execution_count": 0,
      "outputs": []
    },
    {
      "cell_type": "code",
      "metadata": {
        "id": "jKgI535KPMaO",
        "colab_type": "code",
        "colab": {}
      },
      "source": [
        "# add extra features: https://www.kaggle.com/c/jigsaw-toxic-comment-classification-challenge/discussion/52644\n",
        "def unique_words_rate(text):\n",
        "  token_text = text.split()\n",
        "  if len(text) == 0:\n",
        "    return 0\n",
        "  return len(set(w for w in token_text))/len(token_text)\n",
        "\n",
        "# count total caps in text. TODO yonigo: try whole word caps rate\n",
        "def all_caps_rate(text):\n",
        "  if len(text) == 0:\n",
        "    return 0\n",
        "  return sum(1 for c in text if c.isupper())/len(text)\n",
        "\n",
        "def add_extra_features(df):\n",
        "  df['unique_words_rate'] = df['comment_text'].apply(unique_words_rate)\n",
        "  df['all_caps_rate'] = df['comment_text'].apply(all_caps_rate)\n",
        "\n",
        "\n",
        "add_extra_features(df_train)\n",
        "add_extra_features(df_test)\n",
        "\n",
        "df_train.to_csv('/content/train_extra.csv', index=False)\n",
        "df_test.to_csv('/content/test_extra.csv', index=False)"
      ],
      "execution_count": 0,
      "outputs": []
    },
    {
      "cell_type": "code",
      "metadata": {
        "id": "98yPd2KXJHaf",
        "colab_type": "code",
        "colab": {}
      },
      "source": [
        "df = pd.read_csv('/content/train_extra.csv')"
      ],
      "execution_count": 0,
      "outputs": []
    },
    {
      "cell_type": "code",
      "metadata": {
        "id": "LPoQCnr3ksPC",
        "colab_type": "code",
        "colab": {
          "base_uri": "https://localhost:8080/",
          "height": 621
        },
        "outputId": "76f242b0-26bc-4c24-e1d6-38fad5cfc99c"
      },
      "source": [
        "colormap = plt.cm.plasma\n",
        "plt.figure(figsize=(10,10))\n",
        "plt.title('Correlation of features & targets',y=1.05,size=16)\n",
        "sns.heatmap(df[['obscene','insult','toxic','severe_toxic','identity_hate','threat','unique_words_rate','all_caps_rate']].astype(float).corr(),linewidths=0.1,vmax=1.0,square=True,cmap=colormap,\n",
        "           linecolor='white',annot=True)"
      ],
      "execution_count": 33,
      "outputs": [
        {
          "output_type": "execute_result",
          "data": {
            "text/plain": [
              "<matplotlib.axes._subplots.AxesSubplot at 0x7fa017f024a8>"
            ]
          },
          "metadata": {
            "tags": []
          },
          "execution_count": 33
        },
        {
          "output_type": "display_data",
          "data": {
            "image/png": "[encoded data removed]",
            "text/plain": [
              "<Figure size 720x720 with 2 Axes>"
            ]
          },
          "metadata": {
            "tags": []
          }
        }
      ]
    },
    {
      "cell_type": "code",
      "metadata": {
        "id": "B6r-rLbOPXJD",
        "colab_type": "code",
        "outputId": "88b26d69-8ca2-41b5-b9f4-a7c9fb0f92a7",
        "colab": {
          "base_uri": "https://localhost:8080/",
          "height": 34
        }
      },
      "source": [
        "device = torch.device(\"cuda\" if torch.cuda.is_available() else \"cpu\")\n",
        "device"
      ],
      "execution_count": 58,
      "outputs": [
        {
          "output_type": "execute_result",
          "data": {
            "text/plain": [
              "device(type='cuda')"
            ]
          },
          "metadata": {
            "tags": []
          },
          "execution_count": 58
        }
      ]
    },
    {
      "cell_type": "code",
      "metadata": {
        "id": "TQay9nc7PZxF",
        "colab_type": "code",
        "colab": {}
      },
      "source": [
        "# hyperparams\n",
        "TEXT_LENGTH = 100\n",
        "EMBEDDING_SIZE = 300\n",
        "BATCH_SIZE = 64\n",
        "VOCAB_SIZE=20000"
      ],
      "execution_count": 0,
      "outputs": []
    },
    {
      "cell_type": "code",
      "metadata": {
        "id": "Y66JHzB6Pbz-",
        "colab_type": "code",
        "colab": {}
      },
      "source": [
        "TEXT = data.Field(lower=True, batch_first=True,fix_length=TEXT_LENGTH, preprocessing=None)\n",
        "LABEL = data.Field(sequential=False,is_target=True, use_vocab=False, pad_token=None, unk_token=None)\n",
        "EXTRA = data.Field(sequential=False, dtype=torch.float, batch_first=True, use_vocab=False, preprocessing= lambda x: float(x))\n",
        "datafields = [('id', None),\n",
        "              ('comment_text', TEXT), \n",
        "              (\"toxic\", LABEL), \n",
        "              (\"severe_toxic\", LABEL),\n",
        "              ('obscene', LABEL), \n",
        "              ('threat', LABEL),\n",
        "              ('insult', LABEL),\n",
        "              ('identity_hate', LABEL),\n",
        "              ('unique_words_rate', EXTRA),\n",
        "              ('all_caps_rate', EXTRA)]\n",
        "\n",
        "\n",
        "alldata = TabularDataset(\n",
        "    path='/content/train_extra.csv',\n",
        "    format='csv',\n",
        "    skip_header=True,\n",
        "    fields=datafields,)\n",
        "random.seed(17)\n",
        "train,dev = alldata.split(split_ratio=0.9, random_state=random.getstate())"
      ],
      "execution_count": 0,
      "outputs": []
    },
    {
      "cell_type": "code",
      "metadata": {
        "id": "rB_oDAkUPeGr",
        "colab_type": "code",
        "colab": {}
      },
      "source": [
        "#vars(train[0])"
      ],
      "execution_count": 0,
      "outputs": []
    },
    {
      "cell_type": "code",
      "metadata": {
        "id": "eFX8h4RsMwQt",
        "colab_type": "code",
        "colab": {
          "base_uri": "https://localhost:8080/",
          "height": 34
        },
        "outputId": "f0996a8f-4641-43b9-c641-1f56a76014bb"
      },
      "source": [
        "glove_vectors = torchtext.vocab.GloVe(name='6B', dim=EMBEDDING_SIZE,cache='/content/drive/My Drive/pretrained_vectors')\n",
        "glove_mean, glove_std = glove_vectors.vectors.mean(), glove_vectors.vectors.std()"
      ],
      "execution_count": 203,
      "outputs": [
        {
          "output_type": "stream",
          "text": [
            "100%|█████████▉| 399895/400000 [00:47<00:00, 8654.03it/s]"
          ],
          "name": "stderr"
        }
      ]
    },
    {
      "cell_type": "code",
      "metadata": {
        "id": "HNo0AcEhPhgz",
        "colab_type": "code",
        "outputId": "94f5f892-17b2-4303-f1a7-03c22195a676",
        "colab": {
          "base_uri": "https://localhost:8080/",
          "height": 34
        }
      },
      "source": [
        "TEXT.build_vocab(train, vectors=glove_vectors, max_size=20000, min_freq=5)"
      ],
      "execution_count": 204,
      "outputs": [
        {
          "output_type": "stream",
          "text": [
            "\r100%|█████████▉| 399895/400000 [01:00<00:00, 8654.03it/s]"
          ],
          "name": "stderr"
        }
      ]
    },
    {
      "cell_type": "code",
      "metadata": {
        "id": "IkzBTQpk3yCb",
        "colab_type": "code",
        "colab": {}
      },
      "source": [
        "# init oov embeddings with same istribution as glove\n",
        "# skip <unk> and padding\n",
        "for i in range(2, len(TEXT.vocab.vectors)):\n",
        "        if len(TEXT.vocab.vectors[i, :].nonzero()) == 0:\n",
        "          nn.init.normal_(TEXT.vocab.vectors[i], mean=glove_mean, std=glove_std)"
      ],
      "execution_count": 0,
      "outputs": []
    },
    {
      "cell_type": "code",
      "metadata": {
        "id": "paEuw8WpPkv9",
        "colab_type": "code",
        "colab": {}
      },
      "source": [
        "random.seed(1234)\n",
        "train_iterator, valid_iterator = data.BucketIterator.splits((train, dev),\n",
        "                                                            batch_size=BATCH_SIZE,\n",
        "                                                            device=device,\n",
        "                                                            shuffle=True,\n",
        "                                                            sort_key=lambda x: len(x.comment_text))"
      ],
      "execution_count": 0,
      "outputs": []
    },
    {
      "cell_type": "markdown",
      "metadata": {
        "id": "IRXdH2AiQcDY",
        "colab_type": "text"
      },
      "source": [
        "# Explore what preprocessing to do"
      ]
    },
    {
      "cell_type": "code",
      "metadata": {
        "id": "LaVfwmcxSS0O",
        "colab_type": "code",
        "colab": {
          "base_uri": "https://localhost:8080/",
          "height": 52
        },
        "outputId": "ca422d45-6697-4d5d-f5fe-1dfdda78db7f"
      },
      "source": [
        "total_words = len(TEXT.vocab.stoi)\n",
        "words_in_embeddings = 0\n",
        "total_in_embeddings = 0\n",
        "total_count=0\n",
        "oov = {}\n",
        "for word in TEXT.vocab.stoi:\n",
        "  if word in glove_vectors.stoi:\n",
        "    words_in_embeddings+=1\n",
        "    total_in_embeddings+=TEXT.vocab.freqs[word]\n",
        "  else:\n",
        "    oov[word] = TEXT.vocab.freqs[word]\n",
        "\n",
        "  total_count+=TEXT.vocab.freqs[word]\n",
        "print('Found embeddings for {:.2%} of vocab'.format( words_in_embeddings/ total_words))\n",
        "print('Found embeddings for  {:.2%} of all text'.format(total_in_embeddings / total_count))"
      ],
      "execution_count": 208,
      "outputs": [
        {
          "output_type": "stream",
          "text": [
            "Found embeddings for 94.99% of vocab\n",
            "Found embeddings for  99.47% of all text\n"
          ],
          "name": "stdout"
        }
      ]
    },
    {
      "cell_type": "code",
      "metadata": {
        "id": "wD05Cqs0WVPK",
        "colab_type": "code",
        "colab": {}
      },
      "source": [
        "sorted(oov.items(), key = lambda k: k[1],reverse=True)[:50]\n",
        "# TODO yonigo: remove some more special chars. maybe split word that contain fuck? replace fggt with faggot?\n",
        "#TEXT.vocab.stoi['faggot']\n",
        "#glove_vectors.stoi['fggt']"
      ],
      "execution_count": 0,
      "outputs": []
    },
    {
      "cell_type": "markdown",
      "metadata": {
        "id": "pvbMXF5haZny",
        "colab_type": "text"
      },
      "source": [
        "# Model and training"
      ]
    },
    {
      "cell_type": "code",
      "metadata": {
        "id": "4muDTjZsPpHC",
        "colab_type": "code",
        "colab": {}
      },
      "source": [
        "class NNet(nn.Module):\n",
        "    def __init__(self, vocab_size, embedding_dim, output_dim, pad_idx, embeddings, text_length, lstm_hidden_size):\n",
        "        super().__init__()\n",
        "        self.lstm_hidden_size = lstm_hidden_size\n",
        "        self.embeddings = nn.Embedding.from_pretrained(embeddings, freeze=False, padding_idx=pad_idx)\n",
        "        # spacial dropout according to this post: https://discuss.pytorch.org/t/spatial-dropout-in-pytorch/21400/4\n",
        "        self.embedding_dropout = nn.Dropout2d(0.1)\n",
        "        self.lstm = nn.LSTM(input_size=embedding_dim,\n",
        "                            hidden_size=lstm_hidden_size, \n",
        "                            num_layers=1, batch_first=True, bidirectional=True)\n",
        "        \n",
        "        self.gru = nn.GRU(lstm_hidden_size*2, lstm_hidden_size, bidirectional=True, batch_first=True)\n",
        "\n",
        "        self.max_pool = nn.MaxPool2d((text_length,1))\n",
        "        self.avg_pool = nn.AvgPool2d((text_length,1))\n",
        "        self.fc1 = nn.Linear(lstm_hidden_size*6+2, output_dim)\n",
        "\n",
        "    def forward(self, text, extra_features):\n",
        "        embeddings = self.embeddings(text)\n",
        "        embeddings = embeddings.permute(0, 2, 1)   # convert to [batch, channels, time]\n",
        "        embeddings = self.embedding_dropout(embeddings)\n",
        "        embeddings = embeddings.permute(0, 2, 1)   # back to [batch, time, channels]\n",
        "\n",
        "\n",
        "        output_lstm,_ = self.lstm(embeddings)\n",
        "        output_gru, h_n_gru = self.gru(output_lstm)\n",
        "        h_n_gru = h_n_gru.view(-1, 2*self.lstm_hidden_size)\n",
        "        a3_max = self.max_pool(output_gru).squeeze(1)\n",
        "        a3_avg = self.avg_pool(output_gru).squeeze(1)\n",
        "        a3_cat = torch.cat([a3_max,a3_avg,h_n_gru,extra_features],dim=1)\n",
        "        a4 = self.fc1(a3_cat)\n",
        "        return a4"
      ],
      "execution_count": 0,
      "outputs": []
    },
    {
      "cell_type": "code",
      "metadata": {
        "id": "2lXV_mCQDRaT",
        "colab_type": "code",
        "colab": {
          "base_uri": "https://localhost:8080/",
          "height": 34
        },
        "outputId": "b560c210-4636-4b1e-e8b8-0ab30ba0f5f3"
      },
      "source": [
        "# playground\n",
        "#next(iter(train_iterator)).comment_text.shape\n",
        "#batch = next(iter(train_iterator))\n",
        "#model = NNet(len(TEXT.vocab), EMBEDDING_SIZE, 6, TEXT.vocab.stoi[TEXT.pad_token], TEXT.vocab.vectors,TEXT_LENGTH, 100).to(device)\n",
        "#embeddings = model.embeddings(batch.comment_text)\n",
        "#output,_ = model.lstm(embeddings)\n",
        "#output, h_n = model.gru(output)\n",
        "#h_n.shape\n",
        "#h_n.view(-1, 2*100).shape\n",
        "#batch.unique_words_rate.unsqueeze(1)\n",
        "#batch.all_caps_rate.unsqueeze(1)\n",
        "#extra = torch.cat([batch.unique_words_rate.unsqueeze(1),batch.all_caps_rate.unsqueeze(1) ],dim=1)\n",
        "#model(batch.comment_text, extra)\n",
        "#lstmout = model.lstm(embeddings)[0]\n",
        "#model.max_pool(lstmout).shape"
      ],
      "execution_count": 199,
      "outputs": [
        {
          "output_type": "execute_result",
          "data": {
            "text/plain": [
              "torch.Size([64, 100])"
            ]
          },
          "metadata": {
            "tags": []
          },
          "execution_count": 199
        }
      ]
    },
    {
      "cell_type": "code",
      "metadata": {
        "id": "AMAsrtsZQvTI",
        "colab_type": "code",
        "outputId": "56441088-49c5-47cc-9a1e-853065290a17",
        "colab": {
          "base_uri": "https://localhost:8080/",
          "height": 34
        }
      },
      "source": [
        "OUTPUT_DIM = 6\n",
        "PAD_IDX = TEXT.vocab.stoi[TEXT.pad_token]\n",
        "model = NNet(len(TEXT.vocab), EMBEDDING_SIZE, OUTPUT_DIM, PAD_IDX, TEXT.vocab.vectors,TEXT_LENGTH, 50).to(device)\n",
        "\n",
        "def count_parameters(model):\n",
        "    return sum(p.numel() for p in model.parameters() if p.requires_grad)\n",
        "\n",
        "print(f'The model has {count_parameters(model):,} trainable parameters')"
      ],
      "execution_count": 207,
      "outputs": [
        {
          "output_type": "stream",
          "text": [
            "The model has 6,188,818 trainable parameters\n"
          ],
          "name": "stdout"
        }
      ]
    },
    {
      "cell_type": "code",
      "metadata": {
        "id": "XixuVo9KXx-t",
        "colab_type": "code",
        "colab": {}
      },
      "source": [
        "def fit_epoch(iterator, model, optimizer, criterion):\n",
        "    train_loss = 0\n",
        "    train_acc = 0\n",
        "    model.train()\n",
        "    all_y = []\n",
        "    all_y_hat = []\n",
        "    for batch in iterator:\n",
        "        optimizer.zero_grad()\n",
        "        y = torch.stack([batch.toxic,\n",
        "                         batch.severe_toxic,\n",
        "                         batch.obscene,\n",
        "                         batch.threat,\n",
        "                         batch.insult,\n",
        "                         batch.identity_hate],dim=1).float().to(device)\n",
        "        extra_features = torch.cat([batch.unique_words_rate.unsqueeze(1),batch.all_caps_rate.unsqueeze(1) ],dim=1)\n",
        "        y_hat = model(batch.comment_text.to(device), extra_features)\n",
        "        loss = criterion(y_hat, y)\n",
        "        train_loss += loss.item()\n",
        "        loss.backward()\n",
        "        optimizer.step()\n",
        "        all_y.append(y)\n",
        "        all_y_hat.append(y_hat)\n",
        "    y = torch.cat(all_y,dim=0)\n",
        "    y_hat = torch.cat(all_y_hat,dim=0)\n",
        "    roc = roc_auc_score(y.cpu(),y_hat.sigmoid().detach().cpu())\n",
        "    return train_loss / len(iterator.dataset), roc\n",
        "\n",
        "def test_epoch(iterator, model, criterion):\n",
        "    train_loss = 0\n",
        "    train_acc = 0\n",
        "    model.eval()\n",
        "    all_y = []\n",
        "    all_y_hat = []\n",
        "    for batch in iterator:\n",
        "        y = torch.stack([batch.toxic,\n",
        "                         batch.severe_toxic,\n",
        "                         batch.obscene,\n",
        "                         batch.threat,\n",
        "                         batch.insult,\n",
        "                         batch.identity_hate],dim=1).float().to(device)\n",
        "        extra_features = torch.cat([batch.unique_words_rate.unsqueeze(1),batch.all_caps_rate.unsqueeze(1) ],dim=1)                         \n",
        "        with torch.no_grad():\n",
        "            y_hat = model(batch.comment_text.to(device), extra_features)\n",
        "        loss = criterion(y_hat, y)\n",
        "        train_loss += loss.item()\n",
        "        all_y.append(y)\n",
        "        all_y_hat.append(y_hat)\n",
        "    y = torch.cat(all_y,dim=0)\n",
        "    y_hat = torch.cat(all_y_hat,dim=0)\n",
        "    roc = roc_auc_score(y.cpu(),y_hat.sigmoid().detach().cpu())\n",
        "    return train_loss / len(iterator.dataset), roc"
      ],
      "execution_count": 0,
      "outputs": []
    },
    {
      "cell_type": "code",
      "metadata": {
        "id": "31pRSNaJX6Ab",
        "colab_type": "code",
        "colab": {}
      },
      "source": [
        "def train_n_epochs(n, lr, wd):\n",
        "\n",
        "    criterion = nn.BCEWithLogitsLoss().to(device)\n",
        "    optimizer = optim.Adam(model.parameters(), lr=lr, weight_decay=wd)\n",
        "    for epoch in range(n):\n",
        "        start_time = time.time()\n",
        "        train_loss, train_roc = fit_epoch(train_iterator, model, optimizer, criterion)\n",
        "        valid_loss, valid_roc = test_epoch(valid_iterator, model, criterion)\n",
        "\n",
        "        secs = int(time.time() - start_time)\n",
        "        mins = secs / 60\n",
        "        secs = secs % 60\n",
        "\n",
        "        print('Epoch: %d' % (epoch + 1), \" | time in %d minutes, %d seconds\" % (mins, secs))\n",
        "        print(f'\\tLoss: {train_loss:.4f}(train)\\t|\\troc: {train_roc :.6f} (train)')\n",
        "        print(f'\\tLoss: {valid_loss:.4f}(valid)\\t|\\troc: {valid_roc:.6f} (valid)') "
      ],
      "execution_count": 0,
      "outputs": []
    },
    {
      "cell_type": "code",
      "metadata": {
        "id": "b6RQOVNjAopq",
        "colab_type": "code",
        "colab": {
          "base_uri": "https://localhost:8080/",
          "height": 278
        },
        "outputId": "603b3a7a-e53d-45b5-ad57-c0a5a0aa506e"
      },
      "source": [
        "train_n_epochs(5,0.001,0.00001)"
      ],
      "execution_count": 209,
      "outputs": [
        {
          "output_type": "stream",
          "text": [
            "Epoch: 1  | time in 1 minutes, 38 seconds\n",
            "\tLoss: 0.0010(train)\t|\troc: 0.955525 (train)\n",
            "\tLoss: 0.0008(valid)\t|\troc: 0.973496 (valid)\n",
            "Epoch: 2  | time in 1 minutes, 38 seconds\n",
            "\tLoss: 0.0007(train)\t|\troc: 0.977327 (train)\n",
            "\tLoss: 0.0007(valid)\t|\troc: 0.980147 (valid)\n",
            "Epoch: 3  | time in 1 minutes, 37 seconds\n",
            "\tLoss: 0.0007(train)\t|\troc: 0.982683 (train)\n",
            "\tLoss: 0.0007(valid)\t|\troc: 0.984237 (valid)\n",
            "Epoch: 4  | time in 1 minutes, 38 seconds\n",
            "\tLoss: 0.0006(train)\t|\troc: 0.985655 (train)\n",
            "\tLoss: 0.0007(valid)\t|\troc: 0.984906 (valid)\n",
            "Epoch: 5  | time in 1 minutes, 37 seconds\n",
            "\tLoss: 0.0006(train)\t|\troc: 0.987268 (train)\n",
            "\tLoss: 0.0007(valid)\t|\troc: 0.984995 (valid)\n"
          ],
          "name": "stdout"
        }
      ]
    },
    {
      "cell_type": "code",
      "metadata": {
        "id": "Zif9BSmZ75Ba",
        "colab_type": "code",
        "colab": {
          "base_uri": "https://localhost:8080/",
          "height": 467
        },
        "outputId": "83135757-a763-4a42-e453-0d79871ce815"
      },
      "source": [
        "train_n_epochs(5,0.0001,0.00001)"
      ],
      "execution_count": 210,
      "outputs": [
        {
          "output_type": "stream",
          "text": [
            "Epoch: 1  | time in 1 minutes, 37 seconds\n",
            "\tLoss: 0.0007(train)\t|\troc: 0.985994 (train)\n",
            "\tLoss: 0.0007(valid)\t|\troc: 0.985137 (valid)\n",
            "Epoch: 2  | time in 1 minutes, 37 seconds\n",
            "\tLoss: 0.0006(train)\t|\troc: 0.988232 (train)\n",
            "\tLoss: 0.0007(valid)\t|\troc: 0.985561 (valid)\n",
            "Epoch: 3  | time in 1 minutes, 37 seconds\n",
            "\tLoss: 0.0006(train)\t|\troc: 0.989270 (train)\n",
            "\tLoss: 0.0007(valid)\t|\troc: 0.985488 (valid)\n"
          ],
          "name": "stdout"
        },
        {
          "output_type": "error",
          "ename": "KeyboardInterrupt",
          "evalue": "ignored",
          "traceback": [
            "\u001b[0;31m---------------------------------------------------------------------------\u001b[0m",
            "\u001b[0;31mKeyboardInterrupt\u001b[0m                         Traceback (most recent call last)",
            "\u001b[0;32m<ipython-input-210-d86b088cad95>\u001b[0m in \u001b[0;36m<module>\u001b[0;34m()\u001b[0m\n\u001b[0;32m----> 1\u001b[0;31m \u001b[0mtrain_n_epochs\u001b[0m\u001b[0;34m(\u001b[0m\u001b[0;36m5\u001b[0m\u001b[0;34m,\u001b[0m\u001b[0;36m0.001\u001b[0m\u001b[0;34m,\u001b[0m\u001b[0;36m0.00001\u001b[0m\u001b[0;34m)\u001b[0m\u001b[0;34m\u001b[0m\u001b[0;34m\u001b[0m\u001b[0m\n\u001b[0m",
            "\u001b[0;32m<ipython-input-106-c9d809476928>\u001b[0m in \u001b[0;36mtrain_n_epochs\u001b[0;34m(n, lr, wd)\u001b[0m\n\u001b[1;32m      5\u001b[0m     \u001b[0;32mfor\u001b[0m \u001b[0mepoch\u001b[0m \u001b[0;32min\u001b[0m \u001b[0mrange\u001b[0m\u001b[0;34m(\u001b[0m\u001b[0mn\u001b[0m\u001b[0;34m)\u001b[0m\u001b[0;34m:\u001b[0m\u001b[0;34m\u001b[0m\u001b[0;34m\u001b[0m\u001b[0m\n\u001b[1;32m      6\u001b[0m         \u001b[0mstart_time\u001b[0m \u001b[0;34m=\u001b[0m \u001b[0mtime\u001b[0m\u001b[0;34m.\u001b[0m\u001b[0mtime\u001b[0m\u001b[0;34m(\u001b[0m\u001b[0;34m)\u001b[0m\u001b[0;34m\u001b[0m\u001b[0;34m\u001b[0m\u001b[0m\n\u001b[0;32m----> 7\u001b[0;31m         \u001b[0mtrain_loss\u001b[0m\u001b[0;34m,\u001b[0m \u001b[0mtrain_roc\u001b[0m \u001b[0;34m=\u001b[0m \u001b[0mfit_epoch\u001b[0m\u001b[0;34m(\u001b[0m\u001b[0mtrain_iterator\u001b[0m\u001b[0;34m,\u001b[0m \u001b[0mmodel\u001b[0m\u001b[0;34m,\u001b[0m \u001b[0moptimizer\u001b[0m\u001b[0;34m,\u001b[0m \u001b[0mcriterion\u001b[0m\u001b[0;34m)\u001b[0m\u001b[0;34m\u001b[0m\u001b[0;34m\u001b[0m\u001b[0m\n\u001b[0m\u001b[1;32m      8\u001b[0m         \u001b[0mvalid_loss\u001b[0m\u001b[0;34m,\u001b[0m \u001b[0mvalid_roc\u001b[0m \u001b[0;34m=\u001b[0m \u001b[0mtest_epoch\u001b[0m\u001b[0;34m(\u001b[0m\u001b[0mvalid_iterator\u001b[0m\u001b[0;34m,\u001b[0m \u001b[0mmodel\u001b[0m\u001b[0;34m,\u001b[0m \u001b[0mcriterion\u001b[0m\u001b[0;34m)\u001b[0m\u001b[0;34m\u001b[0m\u001b[0;34m\u001b[0m\u001b[0m\n\u001b[1;32m      9\u001b[0m \u001b[0;34m\u001b[0m\u001b[0m\n",
            "\u001b[0;32m<ipython-input-105-468ba4086bd1>\u001b[0m in \u001b[0;36mfit_epoch\u001b[0;34m(iterator, model, optimizer, criterion)\u001b[0m\n\u001b[1;32m     17\u001b[0m         \u001b[0mloss\u001b[0m \u001b[0;34m=\u001b[0m \u001b[0mcriterion\u001b[0m\u001b[0;34m(\u001b[0m\u001b[0my_hat\u001b[0m\u001b[0;34m,\u001b[0m \u001b[0my\u001b[0m\u001b[0;34m)\u001b[0m\u001b[0;34m\u001b[0m\u001b[0;34m\u001b[0m\u001b[0m\n\u001b[1;32m     18\u001b[0m         \u001b[0mtrain_loss\u001b[0m \u001b[0;34m+=\u001b[0m \u001b[0mloss\u001b[0m\u001b[0;34m.\u001b[0m\u001b[0mitem\u001b[0m\u001b[0;34m(\u001b[0m\u001b[0;34m)\u001b[0m\u001b[0;34m\u001b[0m\u001b[0;34m\u001b[0m\u001b[0m\n\u001b[0;32m---> 19\u001b[0;31m         \u001b[0mloss\u001b[0m\u001b[0;34m.\u001b[0m\u001b[0mbackward\u001b[0m\u001b[0;34m(\u001b[0m\u001b[0;34m)\u001b[0m\u001b[0;34m\u001b[0m\u001b[0;34m\u001b[0m\u001b[0m\n\u001b[0m\u001b[1;32m     20\u001b[0m         \u001b[0moptimizer\u001b[0m\u001b[0;34m.\u001b[0m\u001b[0mstep\u001b[0m\u001b[0;34m(\u001b[0m\u001b[0;34m)\u001b[0m\u001b[0;34m\u001b[0m\u001b[0;34m\u001b[0m\u001b[0m\n\u001b[1;32m     21\u001b[0m         \u001b[0mall_y\u001b[0m\u001b[0;34m.\u001b[0m\u001b[0mappend\u001b[0m\u001b[0;34m(\u001b[0m\u001b[0my\u001b[0m\u001b[0;34m)\u001b[0m\u001b[0;34m\u001b[0m\u001b[0;34m\u001b[0m\u001b[0m\n",
            "\u001b[0;32m/usr/local/lib/python3.6/dist-packages/torch/tensor.py\u001b[0m in \u001b[0;36mbackward\u001b[0;34m(self, gradient, retain_graph, create_graph)\u001b[0m\n\u001b[1;32m    148\u001b[0m                 \u001b[0mproducts\u001b[0m\u001b[0;34m.\u001b[0m \u001b[0mDefaults\u001b[0m \u001b[0mto\u001b[0m\u001b[0;31m \u001b[0m\u001b[0;31m`\u001b[0m\u001b[0;31m`\u001b[0m\u001b[0;32mFalse\u001b[0m\u001b[0;31m`\u001b[0m\u001b[0;31m`\u001b[0m\u001b[0;34m.\u001b[0m\u001b[0;34m\u001b[0m\u001b[0;34m\u001b[0m\u001b[0m\n\u001b[1;32m    149\u001b[0m         \"\"\"\n\u001b[0;32m--> 150\u001b[0;31m         \u001b[0mtorch\u001b[0m\u001b[0;34m.\u001b[0m\u001b[0mautograd\u001b[0m\u001b[0;34m.\u001b[0m\u001b[0mbackward\u001b[0m\u001b[0;34m(\u001b[0m\u001b[0mself\u001b[0m\u001b[0;34m,\u001b[0m \u001b[0mgradient\u001b[0m\u001b[0;34m,\u001b[0m \u001b[0mretain_graph\u001b[0m\u001b[0;34m,\u001b[0m \u001b[0mcreate_graph\u001b[0m\u001b[0;34m)\u001b[0m\u001b[0;34m\u001b[0m\u001b[0;34m\u001b[0m\u001b[0m\n\u001b[0m\u001b[1;32m    151\u001b[0m \u001b[0;34m\u001b[0m\u001b[0m\n\u001b[1;32m    152\u001b[0m     \u001b[0;32mdef\u001b[0m \u001b[0mregister_hook\u001b[0m\u001b[0;34m(\u001b[0m\u001b[0mself\u001b[0m\u001b[0;34m,\u001b[0m \u001b[0mhook\u001b[0m\u001b[0;34m)\u001b[0m\u001b[0;34m:\u001b[0m\u001b[0;34m\u001b[0m\u001b[0;34m\u001b[0m\u001b[0m\n",
            "\u001b[0;32m/usr/local/lib/python3.6/dist-packages/torch/autograd/__init__.py\u001b[0m in \u001b[0;36mbackward\u001b[0;34m(tensors, grad_tensors, retain_graph, create_graph, grad_variables)\u001b[0m\n\u001b[1;32m     97\u001b[0m     Variable._execution_engine.run_backward(\n\u001b[1;32m     98\u001b[0m         \u001b[0mtensors\u001b[0m\u001b[0;34m,\u001b[0m \u001b[0mgrad_tensors\u001b[0m\u001b[0;34m,\u001b[0m \u001b[0mretain_graph\u001b[0m\u001b[0;34m,\u001b[0m \u001b[0mcreate_graph\u001b[0m\u001b[0;34m,\u001b[0m\u001b[0;34m\u001b[0m\u001b[0;34m\u001b[0m\u001b[0m\n\u001b[0;32m---> 99\u001b[0;31m         allow_unreachable=True)  # allow_unreachable flag\n\u001b[0m\u001b[1;32m    100\u001b[0m \u001b[0;34m\u001b[0m\u001b[0m\n\u001b[1;32m    101\u001b[0m \u001b[0;34m\u001b[0m\u001b[0m\n",
            "\u001b[0;31mKeyboardInterrupt\u001b[0m: "
          ]
        }
      ]
    },
    {
      "cell_type": "markdown",
      "metadata": {
        "id": "nQkz8tc7j9oH",
        "colab_type": "text"
      },
      "source": [
        "# Prepare and send testset"
      ]
    },
    {
      "cell_type": "code",
      "metadata": {
        "id": "jhxLUGg5X-Ya",
        "colab_type": "code",
        "colab": {}
      },
      "source": [
        "dataFields = [(\"id\", None), (\"comment_text\", TEXT), ('unique_words_rate', EXTRA), ('all_caps_rate', EXTRA)]\n",
        "testDataset= data.TabularDataset(path='/content/test_extra.csv', \n",
        "                                            format='csv',\n",
        "                                            fields=dataFields, \n",
        "                                            skip_header=True)\n",
        "\n",
        "test_iter = data.Iterator(testDataset,\n",
        "                          batch_size=BATCH_SIZE,\n",
        "                          device=device,\n",
        "                          sort=False,\n",
        "                          sort_within_batch=False,\n",
        "                          repeat=False,\n",
        "                          shuffle=False)\n",
        "\n",
        "model.eval()\n",
        "all_predictions = []\n",
        "for batch in test_iter:\n",
        "    with torch.no_grad():\n",
        "        extra_features = torch.cat([batch.unique_words_rate.unsqueeze(1),batch.all_caps_rate.unsqueeze(1) ],dim=1)\n",
        "        y_hat = model(batch.comment_text, extra_features)\n",
        "    pred = torch.sigmoid(y_hat)\n",
        "    all_predictions.append(pred)\n",
        "predictions = torch.cat(all_predictions)"
      ],
      "execution_count": 0,
      "outputs": []
    },
    {
      "cell_type": "code",
      "metadata": {
        "id": "Ku-JvrAleRMG",
        "colab_type": "code",
        "colab": {}
      },
      "source": [
        "list_classes = [\"toxic\", \"severe_toxic\", \"obscene\", \"threat\", \"insult\", \"identity_hate\"]\n",
        "sample_df = pd.read_csv('/content/sample_submission.csv')\n",
        "sample_df[list_classes] = predictions.cpu()\n",
        "sample_df.to_csv('submission.csv', index=False)"
      ],
      "execution_count": 0,
      "outputs": []
    },
    {
      "cell_type": "code",
      "metadata": {
        "id": "xBpS-_zReYDx",
        "colab_type": "code",
        "outputId": "b18f091b-947e-4691-b127-ef47e1997517",
        "colab": {
          "base_uri": "https://localhost:8080/",
          "height": 69
        }
      },
      "source": [
        "!kaggle competitions submit -c jigsaw-toxic-comment-classification-challenge -f '/content/submission.csv' -m \"bidirect lstm avg+max+preprocess+embeddings_init+extra_featurs+gru+300dim submition\""
      ],
      "execution_count": 213,
      "outputs": [
        {
          "output_type": "stream",
          "text": [
            "Warning: Looks like you're using an outdated API Version, please consider updating (server 1.5.6 / client 1.5.4)\n",
            "100% 21.4M/21.4M [00:08<00:00, 2.54MB/s]\n",
            "Successfully submitted to Toxic Comment Classification Challenge"
          ],
          "name": "stdout"
        }
      ]
    },
    {
      "cell_type": "code",
      "metadata": {
        "id": "x6WD4iYweah-",
        "colab_type": "code",
        "colab": {}
      },
      "source": [
        "#best  0.984101"
      ],
      "execution_count": 0,
      "outputs": []
    }
  ]
}