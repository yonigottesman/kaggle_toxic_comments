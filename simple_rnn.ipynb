{
 "cells": [
  {
   "cell_type": "code",
   "execution_count": 64,
   "metadata": {},
   "outputs": [],
   "source": [
    "import pandas as pd\n",
    "import torchtext\n",
    "import random\n",
    "from torchtext.data import TabularDataset\n",
    "import numpy as np\n",
    "import os\n",
    "from torchtext import data\n",
    "import torch.nn as nn\n",
    "import torch\n",
    "import torch.optim as optim\n",
    "import time\n",
    "from sklearn.metrics import roc_auc_score,accuracy_score\n",
    "import spacy\n",
    "import torch.nn.functional as F"
   ]
  },
  {
   "cell_type": "code",
   "execution_count": 2,
   "metadata": {},
   "outputs": [
    {
     "data": {
      "text/plain": [
       "device(type='cpu')"
      ]
     },
     "execution_count": 2,
     "metadata": {},
     "output_type": "execute_result"
    }
   ],
   "source": [
    "device = torch.device(\"cuda\" if torch.cuda.is_available() else \"cpu\")\n",
    "device"
   ]
  },
  {
   "cell_type": "code",
   "execution_count": 4,
   "metadata": {},
   "outputs": [],
   "source": [
    "# hyperparams\n",
    "TEXT_LENGTH = 100\n",
    "EMBEDDING_SIZE = 50\n",
    "BATCH_SIZE = 64\n",
    "VOCAB_SIZE=20000"
   ]
  },
  {
   "cell_type": "code",
   "execution_count": 5,
   "metadata": {},
   "outputs": [],
   "source": [
    "filters='!\"#$%&()*+,-./:;<=>?@[\\\\]^_`{|}~\\t\\n'\n",
    "nlp = spacy.load(\"en\")\n",
    "def tokenizer(text):\n",
    "    filtered = ''.join([c if c not in filters else '' for c in text])\n",
    "    return [token.text for token in nlp.tokenizer(filtered) if not token.is_space]"
   ]
  },
  {
   "cell_type": "code",
   "execution_count": 6,
   "metadata": {},
   "outputs": [],
   "source": [
    "random.seed(1234)\n",
    "TEXT = data.Field(lower=True, batch_first=True,fix_length=TEXT_LENGTH, preprocessing=None, tokenize=tokenizer)\n",
    "LABEL = data.Field(sequential=False,is_target=True, use_vocab=False, pad_token=None, unk_token=None)\n",
    "\n",
    "datafields = [('id', None),\n",
    "              ('comment_text', TEXT), \n",
    "              (\"toxic\", LABEL), \n",
    "              (\"severe_toxic\", LABEL),\n",
    "              ('obscene', LABEL), \n",
    "              ('threat', LABEL),\n",
    "              ('insult', LABEL),\n",
    "              ('identity_hate', LABEL)]\n",
    "\n",
    "\n",
    "alldata = TabularDataset(\n",
    "    path='data/train.csv',\n",
    "    format='csv',\n",
    "    skip_header=True,\n",
    "    fields=datafields)"
   ]
  },
  {
   "cell_type": "code",
   "execution_count": 7,
   "metadata": {},
   "outputs": [],
   "source": [
    "random.seed(17)\n",
    "train,dev = alldata.split(split_ratio=0.9, random_state=random.getstate())"
   ]
  },
  {
   "cell_type": "code",
   "execution_count": 8,
   "metadata": {},
   "outputs": [
    {
     "name": "stderr",
     "output_type": "stream",
     "text": [
      "100%|█████████▉| 399330/400000 [00:09<00:00, 40328.23it/s]\n"
     ]
    }
   ],
   "source": [
    "TEXT.build_vocab(train, vectors='glove.6B.50d', max_size=20000, min_freq=5)\n",
    "LABEL.build_vocab(train)"
   ]
  },
  {
   "cell_type": "code",
   "execution_count": 9,
   "metadata": {},
   "outputs": [],
   "source": [
    "# generate batch iterators\n",
    "random.seed(1234)\n",
    "train_iterator, valid_iterator = data.BucketIterator.splits((train, dev),\n",
    "                                                            batch_size=BATCH_SIZE,\n",
    "                                                            device=device,\n",
    "                                                            shuffle=True,\n",
    "                                                            sort_key=lambda x: len(x.comment_text))"
   ]
  },
  {
   "cell_type": "code",
   "execution_count": 65,
   "metadata": {},
   "outputs": [],
   "source": [
    "class NNet(nn.Module):\n",
    "    def __init__(self, vocab_size, embedding_dim, output_dim, pad_idx, embeddings, text_length, lstm_hidden_size):\n",
    "        super().__init__()\n",
    "        \n",
    "        self.embeddings = nn.Embedding.from_pretrained(embeddings, freeze=False, padding_idx=pad_idx)\n",
    "        self.lstm = nn.LSTM(input_size=embedding_dim, hidden_size=lstm_hidden_size, num_layers=1, batch_first=True)\n",
    "        self.max_pool = nn.MaxPool2d((text_length,1))\n",
    "        self.fc1 = nn.Linear(lstm_hidden_size, 50)\n",
    "        self.fc2 = nn.Linear(50, output_dim)\n",
    "\n",
    "    def forward(self, text):\n",
    "        a1 = self.embeddings(text)\n",
    "        a2 = self.lstm(a1)[0]\n",
    "        a3 = self.max_pool(a2).squeeze(1)\n",
    "        a4 = F.relu(self.fc1(a3))\n",
    "        a5 = self.fc2(a4)\n",
    "        return a5"
   ]
  },
  {
   "cell_type": "code",
   "execution_count": 66,
   "metadata": {},
   "outputs": [
    {
     "name": "stdout",
     "output_type": "stream",
     "text": [
      "The model has 1,129,156 trainable parameters\n"
     ]
    }
   ],
   "source": [
    "OUTPUT_DIM = 6\n",
    "PAD_IDX = TEXT.vocab.stoi[TEXT.pad_token]\n",
    "model = NNet(len(TEXT.vocab), EMBEDDING_SIZE, OUTPUT_DIM, PAD_IDX, TEXT.vocab.vectors,TEXT_LENGTH, 150).to(device)\n",
    "\n",
    "def count_parameters(model):\n",
    "    return sum(p.numel() for p in model.parameters() if p.requires_grad)\n",
    "\n",
    "print(f'The model has {count_parameters(model):,} trainable parameters')"
   ]
  },
  {
   "cell_type": "code",
   "execution_count": 68,
   "metadata": {},
   "outputs": [],
   "source": [
    "def fit_epoch(iterator, model, optimizer, criterion):\n",
    "    train_loss = 0\n",
    "    train_acc = 0\n",
    "    model.train()\n",
    "    all_y = []\n",
    "    all_y_hat = []\n",
    "    for i, batch in enumerate(iterator):\n",
    "        optimizer.zero_grad()\n",
    "        y = torch.stack([batch.toxic,\n",
    "                         batch.severe_toxic,\n",
    "                         batch.obscene,\n",
    "                         batch.threat,\n",
    "                         batch.insult,\n",
    "                         batch.identity_hate],dim=1).float().to(device)\n",
    "        y_hat = model(batch.comment_text.to(device))\n",
    "        loss = criterion(y_hat, y)\n",
    "        train_loss += loss.item()\n",
    "        loss.backward()\n",
    "        optimizer.step()\n",
    "        all_y.append(y)\n",
    "        all_y_hat.append(y_hat)\n",
    "    y = torch.cat(all_y,dim=0)\n",
    "    y_hat = torch.cat(all_y_hat,dim=0)\n",
    "    roc = roc_auc_score(y,y_hat.sigmoid().detach())\n",
    "    return train_loss / len(iterator.dataset), roc\n",
    "\n",
    "def test_epoch(iterator, model, criterion):\n",
    "    train_loss = 0\n",
    "    train_acc = 0\n",
    "    model.eval()\n",
    "    all_y = []\n",
    "    all_y_hat = []\n",
    "    for i, batch in enumerate(iterator):\n",
    "        y = torch.stack([batch.toxic,\n",
    "                         batch.severe_toxic,\n",
    "                         batch.obscene,\n",
    "                         batch.threat,\n",
    "                         batch.insult,\n",
    "                         batch.identity_hate],dim=1).float().to(device)\n",
    "        with torch.no_grad():\n",
    "            y_hat = model(batch.comment_text.to(device))\n",
    "        loss = criterion(y_hat, y)\n",
    "        train_loss += loss.item()\n",
    "        all_y.append(y)\n",
    "        all_y_hat.append(y_hat)\n",
    "    y = torch.cat(all_y,dim=0)\n",
    "    y_hat = torch.cat(all_y_hat,dim=0)\n",
    "    roc = roc_auc_score(y,y_hat.sigmoid().detach())\n",
    "    return train_loss / len(iterator.dataset), roc"
   ]
  },
  {
   "cell_type": "code",
   "execution_count": 69,
   "metadata": {},
   "outputs": [],
   "source": [
    "def train_n_epochs(n, lr, wd):\n",
    "\n",
    "    criterion = nn.BCEWithLogitsLoss().to(device)\n",
    "    optimizer = optim.Adam(model.parameters(), lr=lr, weight_decay=wd)\n",
    "    for epoch in range(n):\n",
    "        start_time = time.time()\n",
    "        train_loss, train_roc = fit_epoch(train_iterator, model, optimizer, criterion)\n",
    "        valid_loss, valid_roc = test_epoch(valid_iterator, model, criterion)\n",
    "\n",
    "        secs = int(time.time() - start_time)\n",
    "        mins = secs / 60\n",
    "        secs = secs % 60\n",
    "\n",
    "        print('Epoch: %d' % (epoch + 1), \" | time in %d minutes, %d seconds\" % (mins, secs))\n",
    "        print(f'\\tLoss: {train_loss:.4f}(train)\\t|\\troc: {train_roc :.6f} (train)')\n",
    "        print(f'\\tLoss: {valid_loss:.4f}(valid)\\t|\\troc: {valid_roc:.6f} (valid)')"
   ]
  },
  {
   "cell_type": "code",
   "execution_count": null,
   "metadata": {},
   "outputs": [
    {
     "name": "stdout",
     "output_type": "stream",
     "text": [
      "Epoch: 1  | time in 5 minutes, 19 seconds\n",
      "\tLoss: 0.0009(train)\t|\troc: 0.957808 (train)\n",
      "\tLoss: 0.0009(valid)\t|\troc: 0.970781 (valid)\n",
      "Epoch: 2  | time in 5 minutes, 15 seconds\n",
      "\tLoss: 0.0007(train)\t|\troc: 0.978593 (train)\n",
      "\tLoss: 0.0008(valid)\t|\troc: 0.972617 (valid)\n",
      "Epoch: 3  | time in 5 minutes, 20 seconds\n",
      "\tLoss: 0.0007(train)\t|\troc: 0.983613 (train)\n",
      "\tLoss: 0.0008(valid)\t|\troc: 0.972922 (valid)\n",
      "Epoch: 4  | time in 5 minutes, 46 seconds\n",
      "\tLoss: 0.0006(train)\t|\troc: 0.985390 (train)\n",
      "\tLoss: 0.0009(valid)\t|\troc: 0.970077 (valid)\n"
     ]
    }
   ],
   "source": [
    "train_n_epochs(5,0.01,0)"
   ]
  },
  {
   "cell_type": "code",
   "execution_count": null,
   "metadata": {},
   "outputs": [],
   "source": []
  }
 ],
 "metadata": {
  "kernelspec": {
   "display_name": "kaggle",
   "language": "python",
   "name": "kaggle"
  },
  "language_info": {
   "codemirror_mode": {
    "name": "ipython",
    "version": 3
   },
   "file_extension": ".py",
   "mimetype": "text/x-python",
   "name": "python",
   "nbconvert_exporter": "python",
   "pygments_lexer": "ipython3",
   "version": "3.6.5"
  }
 },
 "nbformat": 4,
 "nbformat_minor": 2
}
